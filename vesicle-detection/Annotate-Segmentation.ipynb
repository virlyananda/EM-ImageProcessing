{
 "cells": [
  {
   "cell_type": "markdown",
   "id": "feaa95ca",
   "metadata": {},
   "source": [
    "## Annotate Segmentation with Description and Bounding Box ##\n",
    "\n",
    "Description: Sample dataset in object detection test version 1. <br>\n",
    "Date: 06/20/2023 <br>\n",
    "Author: Virly Y. Ananda (Napari-integrated)"
   ]
  },
  {
   "cell_type": "markdown",
   "id": "0e961552",
   "metadata": {},
   "source": [
    "Before running this script, ensure you have the following programs installed locally:\n",
    "- Napari : Make sure to install this through PIP and not conda environment.\n",
    "- Jupyter Notebook"
   ]
  },
  {
   "cell_type": "code",
   "execution_count": 1,
   "id": "e3ba89b4",
   "metadata": {},
   "outputs": [],
   "source": [
    "# Import necessary packages\n",
    "import numpy as np\n",
    "from skimage import data\n",
    "from skimage.filters import threshold_otsu\n",
    "from skimage.segmentation import clear_border\n",
    "from skimage.measure import label, regionprops_table\n",
    "from skimage.morphology import closing, square, remove_small_objects\n",
    "import napari"
   ]
  },
  {
   "cell_type": "markdown",
   "id": "5c8a7c27",
   "metadata": {},
   "source": [
    "### Segment ROIs ###"
   ]
  },
  {
   "cell_type": "code",
   "execution_count": 26,
   "id": "24ca0d2e",
   "metadata": {},
   "outputs": [],
   "source": [
    "def segment(image):\n",
    "    \"\"\"Segment an image using an intensity threshold\n",
    "    determined via Otsu's method.\n",
    "\n",
    "    Parameters\n",
    "    ----------\n",
    "    image : np.ndarray\n",
    "        The image to be segmented\n",
    "\n",
    "    Returns\n",
    "    -------\n",
    "    label_image : np.ndarray\n",
    "        The resulting image where each detected object\n",
    "        is labeled with a unique integer.\n",
    "    \"\"\"\n",
    "    # apply threshold\n",
    "    thresh = threshold_otsu(image)\n",
    "    bw = closing(image > thresh, square(4))\n",
    "\n",
    "    # remove artifacts connected to image border\n",
    "    cleared = remove_small_objects(clear_border(bw), 20)\n",
    "\n",
    "    # label image regions\n",
    "    label_image = label(cleared)\n",
    "\n",
    "    return label_image"
   ]
  },
  {
   "cell_type": "code",
   "execution_count": 27,
   "id": "6772ede6",
   "metadata": {},
   "outputs": [],
   "source": [
    "# load the image and segment it\n",
    "image = data.coins()[50:-50, 50:-50]\n",
    "label_image = segment(image)\n",
    "\n",
    "# initialize viewer with coins image\n",
    "viewer = napari.view_image(image, name='coins', rgb=False)\n",
    "\n",
    "# add the labels\n",
    "label_layer = viewer.add_labels(label_image, name='segmentation')\n",
    "\n",
    "napari.run()"
   ]
  },
  {
   "cell_type": "markdown",
   "id": "04d28839",
   "metadata": {},
   "source": [
    "### Analyze Segmentation ###"
   ]
  },
  {
   "cell_type": "code",
   "execution_count": 28,
   "id": "42622b20",
   "metadata": {},
   "outputs": [],
   "source": [
    "# create the properties dictionary\n",
    "properties = regionprops_table(\n",
    "    label_image, properties=('label', 'bbox', 'perimeter', 'area')\n",
    ")"
   ]
  },
  {
   "cell_type": "code",
   "execution_count": 29,
   "id": "65f987fc",
   "metadata": {},
   "outputs": [],
   "source": [
    "def circularity(perimeter, area):\n",
    "    \"\"\"Calculate the circularity of the region\n",
    "\n",
    "    Parameters\n",
    "    ----------\n",
    "    perimeter : float\n",
    "        the perimeter of the region\n",
    "    area : float\n",
    "        the area of the region\n",
    "\n",
    "    Returns\n",
    "    -------\n",
    "    circularity : float\n",
    "        The circularity of the region as defined by 4*pi*area / perimeter^2\n",
    "    \"\"\"\n",
    "    circularity = 4 * np.pi * area / (perimeter ** 2)\n",
    "\n",
    "    return circularity"
   ]
  },
  {
   "cell_type": "code",
   "execution_count": 30,
   "id": "be498c2f",
   "metadata": {},
   "outputs": [],
   "source": [
    "properties['circularity'] = circularity(\n",
    "    properties['perimeter'], properties['area']\n",
    ")"
   ]
  },
  {
   "cell_type": "code",
   "execution_count": 31,
   "id": "90d2a34d",
   "metadata": {},
   "outputs": [],
   "source": [
    "def make_bbox(bbox_extents):\n",
    "    \"\"\"Get the coordinates of the corners of a\n",
    "    bounding box from the extents\n",
    "\n",
    "    Parameters\n",
    "    ----------\n",
    "    bbox_extents : list (4xN)\n",
    "        List of the extents of the bounding boxes for each of the N regions.\n",
    "        Should be ordered: [min_row, min_column, max_row, max_column]\n",
    "\n",
    "    Returns\n",
    "    -------\n",
    "    bbox_rect : np.ndarray\n",
    "        The corners of the bounding box. Can be input directly into a\n",
    "        napari Shapes layer.\n",
    "    \"\"\"\n",
    "    minr = bbox_extents[0]\n",
    "    minc = bbox_extents[1]\n",
    "    maxr = bbox_extents[2]\n",
    "    maxc = bbox_extents[3]\n",
    "\n",
    "    bbox_rect = np.array(\n",
    "        [[minr, minc], [maxr, minc], [maxr, maxc], [minr, maxc]]\n",
    "    )\n",
    "    bbox_rect = np.moveaxis(bbox_rect, 2, 0)\n",
    "\n",
    "    return bbox_rect"
   ]
  },
  {
   "cell_type": "code",
   "execution_count": 32,
   "id": "d1397ac5",
   "metadata": {},
   "outputs": [],
   "source": [
    "# create the bounding box rectangles\n",
    "bbox_rects = make_bbox([properties[f'bbox-{i}'] for i in range(4)])"
   ]
  },
  {
   "cell_type": "code",
   "execution_count": 33,
   "id": "a4a04698",
   "metadata": {},
   "outputs": [],
   "source": [
    "# specify the display parameters for the text\n",
    "text_parameters = {\n",
    "    'string': 'label: {label}\\ncirc: {circularity:.2f}',\n",
    "    'size': 12,\n",
    "    'color': 'green',\n",
    "    'anchor': 'upper_left',\n",
    "    'translation': [-3, 0],\n",
    "}"
   ]
  },
  {
   "cell_type": "code",
   "execution_count": 34,
   "id": "85a18245",
   "metadata": {},
   "outputs": [],
   "source": [
    "# initialise viewer with coins image\n",
    "viewer = napari.view_image(image, name='coins', rgb=False)\n",
    "\n",
    "# add the labels\n",
    "label_layer = viewer.add_labels(label_image, name='segmentation')\n",
    "\n",
    "napari.run()"
   ]
  },
  {
   "cell_type": "code",
   "execution_count": 35,
   "id": "8957741b",
   "metadata": {},
   "outputs": [],
   "source": [
    "shapes_layer = viewer.add_shapes(\n",
    "        bbox_rects,\n",
    "        face_color='transparent',\n",
    "        edge_color='green',\n",
    "        name='bounding box'\n",
    "    )"
   ]
  },
  {
   "cell_type": "code",
   "execution_count": 36,
   "id": "ed78cd1f",
   "metadata": {},
   "outputs": [],
   "source": [
    "shapes_layer = viewer.add_shapes(\n",
    "        bbox_rects,\n",
    "        face_color='transparent',\n",
    "        edge_color='green',\n",
    "        properties=properties,\n",
    "        text=text_parameters,\n",
    "        name='bounding box'\n",
    "    )"
   ]
  },
  {
   "cell_type": "code",
   "execution_count": 37,
   "id": "65c49d08",
   "metadata": {},
   "outputs": [],
   "source": [
    "# create the properties dictionary\n",
    "properties = {\n",
    "    'label': label,\n",
    "    'circularity': circularity,\n",
    "}"
   ]
  },
  {
   "cell_type": "code",
   "execution_count": 38,
   "id": "cd9c61e7",
   "metadata": {},
   "outputs": [],
   "source": [
    "text_parameters = {\n",
    "    'string': 'label: {label}\\ncirc: {circularity:.2f}',\n",
    "    'size': 12,\n",
    "    'color': 'green',\n",
    "    'anchor': 'upper_left',\n",
    "    'translation': [-3, 0]\n",
    "}\n",
    "\n",
    "label: 1\n",
    "circ: 0.83"
   ]
  },
  {
   "cell_type": "code",
   "execution_count": null,
   "id": "ecd47689",
   "metadata": {},
   "outputs": [],
   "source": [
    "# create the properties dictionary\n",
    "properties = {\n",
    "    'label': label,\n",
    "    'circularity': circularity,\n",
    "}\n",
    "\n",
    "# specify the display parameters for the text\n",
    "text_kwargs = {\n",
    "    'string': 'label: {label}\\ncirc: {circularity:.2f}',\n",
    "    'size': 12,\n",
    "    'color': 'green',\n",
    "    'anchor': 'upper_left',\n",
    "    'translation': [-3, 0]\n",
    "}\n",
    "\n",
    "# initialise viewer with coins image\n",
    "viewer = napari.view_image(image, name='coins', rgb=False)\n",
    "\n",
    "# add the labels\n",
    "label_layer = viewer.add_labels(label_image, name='segmentation')\n",
    "\n",
    "shapes_layer = viewer.add_shapes(\n",
    "    bbox_rects,\n",
    "    face_color='transparent',\n",
    "    edge_color='green',\n",
    "    properties=properties,\n",
    "    text=text_parameters,\n",
    "    name='bounding box'\n",
    ")\n",
    "\n",
    "napari.run()"
   ]
  },
  {
   "cell_type": "code",
   "execution_count": null,
   "id": "1ceb3b85",
   "metadata": {},
   "outputs": [],
   "source": []
  }
 ],
 "metadata": {
  "kernelspec": {
   "display_name": "Python 3 (ipykernel)",
   "language": "python",
   "name": "python3"
  },
  "language_info": {
   "codemirror_mode": {
    "name": "ipython",
    "version": 3
   },
   "file_extension": ".py",
   "mimetype": "text/x-python",
   "name": "python",
   "nbconvert_exporter": "python",
   "pygments_lexer": "ipython3",
   "version": "3.9.13"
  }
 },
 "nbformat": 4,
 "nbformat_minor": 5
}
