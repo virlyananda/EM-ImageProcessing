{
 "cells": [
  {
   "cell_type": "code",
   "execution_count": 5,
   "id": "336d0e80",
   "metadata": {},
   "outputs": [],
   "source": [
    "# Import necessary packages\n",
    "import numpy as np\n",
    "from skimage import data\n",
    "from skimage.io import imread\n",
    "from skimage.filters import threshold_otsu\n",
    "from skimage.segmentation import clear_border\n",
    "from skimage.measure import label, regionprops_table\n",
    "from skimage.morphology import closing, square, remove_small_objects\n",
    "import napari"
   ]
  },
  {
   "cell_type": "markdown",
   "id": "30e656f1",
   "metadata": {},
   "source": [
    "### Segment ROIs ###"
   ]
  },
  {
   "cell_type": "code",
   "execution_count": 34,
   "id": "cecb7a27",
   "metadata": {},
   "outputs": [],
   "source": [
    "def segment(image):\n",
    "    \"\"\"Segment an image using an intensity threshold\n",
    "    determined via Otsu's method.\n",
    "\n",
    "    Parameters\n",
    "    ----------\n",
    "    image : np.ndarray\n",
    "        The image to be segmented\n",
    "\n",
    "    Returns\n",
    "    -------\n",
    "    label_image : np.ndarray\n",
    "        The resulting image where each detected object\n",
    "        is labeled with a unique integer.\n",
    "    \"\"\"\n",
    "    # apply threshold\n",
    "    thresh = threshold_otsu(image)\n",
    "    bw = closing(image > thresh, square(2))\n",
    "\n",
    "    # remove artifacts connected to image border\n",
    "    cleared = remove_small_objects(clear_border(bw), 25)\n",
    "\n",
    "    # label image regions\n",
    "    label_image = label(cleared)\n",
    "\n",
    "    return label_image"
   ]
  },
  {
   "cell_type": "code",
   "execution_count": 35,
   "id": "7a4d34fb",
   "metadata": {},
   "outputs": [],
   "source": [
    "# Create an empty viewer\n",
    "viewer = napari.Viewer()"
   ]
  },
  {
   "cell_type": "code",
   "execution_count": 36,
   "id": "6e8bd983",
   "metadata": {},
   "outputs": [
    {
     "data": {
      "text/plain": [
       "<Image layer 'image' at 0x7f89c8c245b0>"
      ]
     },
     "execution_count": 36,
     "metadata": {},
     "output_type": "execute_result"
    }
   ],
   "source": [
    "image = imread('/Users/virly/beta_script/vesicle-detection/vesicles.png')\n",
    "\n",
    "viewer.add_image(image)"
   ]
  },
  {
   "cell_type": "code",
   "execution_count": 37,
   "id": "fcb0e9aa",
   "metadata": {},
   "outputs": [],
   "source": [
    "# Create label\n",
    "label_image = segment(image)\n",
    "\n",
    "# initialize viewer with coins image\n",
    "viewer = napari.view_image(image, name='Vesicles', rgb=False)\n",
    "\n",
    "# add the labels\n",
    "label_layer = viewer.add_labels(label_image, name='segmentation')\n",
    "\n",
    "napari.run()"
   ]
  },
  {
   "cell_type": "markdown",
   "id": "99475b7a",
   "metadata": {},
   "source": [
    "### Analyze Segmentation ###"
   ]
  },
  {
   "cell_type": "code",
   "execution_count": 12,
   "id": "12c42ffd",
   "metadata": {},
   "outputs": [],
   "source": [
    "# Create the properties dictionary\n",
    "properties = regionprops_table(\n",
    "    label_image, properties=('label', 'bbox', 'perimeter', 'area')\n",
    ")"
   ]
  },
  {
   "cell_type": "code",
   "execution_count": 13,
   "id": "fad5d22c",
   "metadata": {},
   "outputs": [],
   "source": [
    "# Define measurement: Circularity\n",
    "def circularity(perimeter, area):\n",
    "    \"\"\"Calculate the circularity of the region\n",
    "\n",
    "    Parameters\n",
    "    ----------\n",
    "    perimeter : float\n",
    "        the perimeter of the region\n",
    "    area : float\n",
    "        the area of the region\n",
    "\n",
    "    Returns\n",
    "    -------\n",
    "    circularity : float\n",
    "        The circularity of the region as defined by 4*pi*area / perimeter^2\n",
    "    \"\"\"\n",
    "    circularity = 4 * np.pi * area / (perimeter ** 2)\n",
    "\n",
    "    return circularity"
   ]
  },
  {
   "cell_type": "code",
   "execution_count": 14,
   "id": "849caf9a",
   "metadata": {},
   "outputs": [],
   "source": [
    "properties['circularity'] = circularity(\n",
    "    properties['perimeter'], properties['area']\n",
    ")"
   ]
  },
  {
   "cell_type": "code",
   "execution_count": 15,
   "id": "8c3ef12d",
   "metadata": {},
   "outputs": [],
   "source": [
    "# Define bounding boxes\n",
    "def make_bbox(bbox_extents):\n",
    "    \"\"\"Get the coordinates of the corners of a\n",
    "    bounding box from the extents\n",
    "\n",
    "    Parameters\n",
    "    ----------\n",
    "    bbox_extents : list (4xN)\n",
    "        List of the extents of the bounding boxes for each of the N regions.\n",
    "        Should be ordered: [min_row, min_column, max_row, max_column]\n",
    "\n",
    "    Returns\n",
    "    -------\n",
    "    bbox_rect : np.ndarray\n",
    "        The corners of the bounding box. Can be input directly into a\n",
    "        napari Shapes layer.\n",
    "    \"\"\"\n",
    "    minr = bbox_extents[0]\n",
    "    minc = bbox_extents[1]\n",
    "    maxr = bbox_extents[2]\n",
    "    maxc = bbox_extents[3]\n",
    "\n",
    "    bbox_rect = np.array(\n",
    "        [[minr, minc], [maxr, minc], [maxr, maxc], [minr, maxc]]\n",
    "    )\n",
    "    bbox_rect = np.moveaxis(bbox_rect, 2, 0)\n",
    "\n",
    "    return bbox_rect"
   ]
  },
  {
   "cell_type": "code",
   "execution_count": null,
   "id": "e1ac549d",
   "metadata": {},
   "outputs": [],
   "source": [
    "# Create the bounding box rectangles\n",
    "bbox_rects = make_bbox([properties[f'bbox-{i}'] for i in range(4)])"
   ]
  },
  {
   "cell_type": "code",
   "execution_count": 17,
   "id": "e33d2640",
   "metadata": {},
   "outputs": [],
   "source": [
    "# Specify the display parameters for the text\n",
    "text_parameters = {\n",
    "    'string': 'label: {label}\\ncirc: {circularity:.2f}',\n",
    "    'size': 12,\n",
    "    'color': 'green',\n",
    "    'anchor': 'upper_left',\n",
    "    'translation': [-3, 0],\n",
    "}"
   ]
  },
  {
   "cell_type": "code",
   "execution_count": 19,
   "id": "c8632ce6",
   "metadata": {},
   "outputs": [],
   "source": [
    "# initialise viewer with coins image\n",
    "viewer = napari.view_image(image, name='vesicles', rgb=False)\n",
    "\n",
    "# add the labels\n",
    "label_layer = viewer.add_labels(label_image, name='segmentation')\n",
    "\n",
    "napari.run()"
   ]
  },
  {
   "cell_type": "code",
   "execution_count": null,
   "id": "5e3d3403",
   "metadata": {},
   "outputs": [],
   "source": [
    "shapes_layer = viewer.add_shapes(\n",
    "        face_color='transparent',\n",
    "        edge_color='green',\n",
    "        name='bounding box'\n",
    "    )"
   ]
  },
  {
   "cell_type": "code",
   "execution_count": 22,
   "id": "a0ef6142",
   "metadata": {},
   "outputs": [
    {
     "ename": "ValueError",
     "evalue": "Length of values (294) does not match length of index (0)",
     "output_type": "error",
     "traceback": [
      "\u001b[0;31m---------------------------------------------------------------------------\u001b[0m",
      "\u001b[0;31mValueError\u001b[0m                                Traceback (most recent call last)",
      "\u001b[0;32m/var/folders/k1/f2wf8mwn5hsgscywbtrn201m0000gp/T/ipykernel_46584/1325780855.py\u001b[0m in \u001b[0;36m<module>\u001b[0;34m\u001b[0m\n\u001b[0;32m----> 1\u001b[0;31m shapes_layer = viewer.add_shapes(\n\u001b[0m\u001b[1;32m      2\u001b[0m         \u001b[0mface_color\u001b[0m\u001b[0;34m=\u001b[0m\u001b[0;34m'transparent'\u001b[0m\u001b[0;34m,\u001b[0m\u001b[0;34m\u001b[0m\u001b[0;34m\u001b[0m\u001b[0m\n\u001b[1;32m      3\u001b[0m         \u001b[0medge_color\u001b[0m\u001b[0;34m=\u001b[0m\u001b[0;34m'green'\u001b[0m\u001b[0;34m,\u001b[0m\u001b[0;34m\u001b[0m\u001b[0;34m\u001b[0m\u001b[0m\n\u001b[1;32m      4\u001b[0m         \u001b[0mproperties\u001b[0m\u001b[0;34m=\u001b[0m\u001b[0mproperties\u001b[0m\u001b[0;34m,\u001b[0m\u001b[0;34m\u001b[0m\u001b[0;34m\u001b[0m\u001b[0m\n\u001b[1;32m      5\u001b[0m         \u001b[0mtext\u001b[0m\u001b[0;34m=\u001b[0m\u001b[0mtext_parameters\u001b[0m\u001b[0;34m,\u001b[0m\u001b[0;34m\u001b[0m\u001b[0;34m\u001b[0m\u001b[0m\n",
      "\u001b[0;32m~/opt/anaconda3/lib/python3.9/site-packages/napari/components/viewer_model.py\u001b[0m in \u001b[0;36madd_shapes\u001b[0;34m(self, data, ndim, features, properties, property_choices, text, shape_type, edge_width, edge_color, edge_color_cycle, edge_colormap, edge_contrast_limits, face_color, face_color_cycle, face_colormap, face_contrast_limits, z_index, name, metadata, scale, translate, rotate, shear, affine, opacity, blending, visible, cache, experimental_clipping_planes)\u001b[0m\n\u001b[1;32m      2\u001b[0m \u001b[0;34m\u001b[0m\u001b[0m\n\u001b[1;32m      3\u001b[0m \u001b[0;32mimport\u001b[0m \u001b[0minspect\u001b[0m\u001b[0;34m\u001b[0m\u001b[0;34m\u001b[0m\u001b[0m\n\u001b[0;32m----> 4\u001b[0;31m \u001b[0;32mimport\u001b[0m \u001b[0mitertools\u001b[0m\u001b[0;34m\u001b[0m\u001b[0;34m\u001b[0m\u001b[0m\n\u001b[0m\u001b[1;32m      5\u001b[0m \u001b[0;32mimport\u001b[0m \u001b[0mos\u001b[0m\u001b[0;34m\u001b[0m\u001b[0;34m\u001b[0m\u001b[0m\n\u001b[1;32m      6\u001b[0m \u001b[0;32mimport\u001b[0m \u001b[0mwarnings\u001b[0m\u001b[0;34m\u001b[0m\u001b[0;34m\u001b[0m\u001b[0m\n",
      "\u001b[0;32m~/opt/anaconda3/lib/python3.9/site-packages/napari/layers/shapes/shapes.py\u001b[0m in \u001b[0;36m__init__\u001b[0;34m(self, data, ndim, features, properties, property_choices, text, shape_type, edge_width, edge_color, edge_color_cycle, edge_colormap, edge_contrast_limits, face_color, face_color_cycle, face_colormap, face_contrast_limits, z_index, name, metadata, scale, translate, rotate, shear, affine, opacity, blending, visible, cache, experimental_clipping_planes)\u001b[0m\n\u001b[1;32m    453\u001b[0m         \u001b[0mself\u001b[0m\u001b[0;34m.\u001b[0m\u001b[0m_ndisplay_stored\u001b[0m \u001b[0;34m=\u001b[0m \u001b[0mself\u001b[0m\u001b[0;34m.\u001b[0m\u001b[0m_ndisplay\u001b[0m\u001b[0;34m\u001b[0m\u001b[0;34m\u001b[0m\u001b[0m\n\u001b[1;32m    454\u001b[0m \u001b[0;34m\u001b[0m\u001b[0m\n\u001b[0;32m--> 455\u001b[0;31m         self._feature_table = _FeatureTable.from_layer(\n\u001b[0m\u001b[1;32m    456\u001b[0m             \u001b[0mfeatures\u001b[0m\u001b[0;34m=\u001b[0m\u001b[0mfeatures\u001b[0m\u001b[0;34m,\u001b[0m\u001b[0;34m\u001b[0m\u001b[0;34m\u001b[0m\u001b[0m\n\u001b[1;32m    457\u001b[0m             \u001b[0mproperties\u001b[0m\u001b[0;34m=\u001b[0m\u001b[0mproperties\u001b[0m\u001b[0;34m,\u001b[0m\u001b[0;34m\u001b[0m\u001b[0;34m\u001b[0m\u001b[0m\n",
      "\u001b[0;32m~/opt/anaconda3/lib/python3.9/site-packages/napari/layers/utils/layer_utils.py\u001b[0m in \u001b[0;36mfrom_layer\u001b[0;34m(cls, features, properties, property_choices, num_data)\u001b[0m\n\u001b[1;32m    954\u001b[0m         \"\"\"\n\u001b[1;32m    955\u001b[0m         \u001b[0;32mif\u001b[0m \u001b[0mproperties\u001b[0m \u001b[0;32mis\u001b[0m \u001b[0;32mnot\u001b[0m \u001b[0;32mNone\u001b[0m \u001b[0;32mor\u001b[0m \u001b[0mproperty_choices\u001b[0m \u001b[0;32mis\u001b[0m \u001b[0;32mnot\u001b[0m \u001b[0;32mNone\u001b[0m\u001b[0;34m:\u001b[0m\u001b[0;34m\u001b[0m\u001b[0;34m\u001b[0m\u001b[0m\n\u001b[0;32m--> 956\u001b[0;31m             features = _features_from_properties(\n\u001b[0m\u001b[1;32m    957\u001b[0m                 \u001b[0mproperties\u001b[0m\u001b[0;34m=\u001b[0m\u001b[0mproperties\u001b[0m\u001b[0;34m,\u001b[0m\u001b[0;34m\u001b[0m\u001b[0;34m\u001b[0m\u001b[0m\n\u001b[1;32m    958\u001b[0m                 \u001b[0mproperty_choices\u001b[0m\u001b[0;34m=\u001b[0m\u001b[0mproperty_choices\u001b[0m\u001b[0;34m,\u001b[0m\u001b[0;34m\u001b[0m\u001b[0;34m\u001b[0m\u001b[0m\n",
      "\u001b[0;32m~/opt/anaconda3/lib/python3.9/site-packages/napari/layers/utils/layer_utils.py\u001b[0m in \u001b[0;36m_features_from_properties\u001b[0;34m(properties, property_choices, num_data)\u001b[0m\n\u001b[1;32m   1022\u001b[0m             )\n\u001b[1;32m   1023\u001b[0m             \u001b[0mproperties\u001b[0m\u001b[0;34m[\u001b[0m\u001b[0mname\u001b[0m\u001b[0;34m]\u001b[0m \u001b[0;34m=\u001b[0m \u001b[0mpd\u001b[0m\u001b[0;34m.\u001b[0m\u001b[0mSeries\u001b[0m\u001b[0;34m(\u001b[0m\u001b[0mvalues\u001b[0m\u001b[0;34m,\u001b[0m \u001b[0mdtype\u001b[0m\u001b[0;34m=\u001b[0m\u001b[0mdtype\u001b[0m\u001b[0;34m)\u001b[0m\u001b[0;34m\u001b[0m\u001b[0;34m\u001b[0m\u001b[0m\n\u001b[0;32m-> 1024\u001b[0;31m     \u001b[0;32mreturn\u001b[0m \u001b[0m_validate_features\u001b[0m\u001b[0;34m(\u001b[0m\u001b[0mproperties\u001b[0m\u001b[0;34m,\u001b[0m \u001b[0mnum_data\u001b[0m\u001b[0;34m=\u001b[0m\u001b[0mnum_data\u001b[0m\u001b[0;34m)\u001b[0m\u001b[0;34m\u001b[0m\u001b[0;34m\u001b[0m\u001b[0m\n\u001b[0m\u001b[1;32m   1025\u001b[0m \u001b[0;34m\u001b[0m\u001b[0m\n\u001b[1;32m   1026\u001b[0m \u001b[0;34m\u001b[0m\u001b[0m\n",
      "\u001b[0;32m~/opt/anaconda3/lib/python3.9/site-packages/napari/layers/utils/layer_utils.py\u001b[0m in \u001b[0;36m_validate_features\u001b[0;34m(features, num_data)\u001b[0m\n\u001b[1;32m    997\u001b[0m         }\n\u001b[1;32m    998\u001b[0m     \u001b[0mindex\u001b[0m \u001b[0;34m=\u001b[0m \u001b[0;32mNone\u001b[0m \u001b[0;32mif\u001b[0m \u001b[0mnum_data\u001b[0m \u001b[0;32mis\u001b[0m \u001b[0;32mNone\u001b[0m \u001b[0;32melse\u001b[0m \u001b[0mrange\u001b[0m\u001b[0;34m(\u001b[0m\u001b[0mnum_data\u001b[0m\u001b[0;34m)\u001b[0m\u001b[0;34m\u001b[0m\u001b[0;34m\u001b[0m\u001b[0m\n\u001b[0;32m--> 999\u001b[0;31m     \u001b[0;32mreturn\u001b[0m \u001b[0mpd\u001b[0m\u001b[0;34m.\u001b[0m\u001b[0mDataFrame\u001b[0m\u001b[0;34m(\u001b[0m\u001b[0mdata\u001b[0m\u001b[0;34m=\u001b[0m\u001b[0mfeatures\u001b[0m\u001b[0;34m,\u001b[0m \u001b[0mindex\u001b[0m\u001b[0;34m=\u001b[0m\u001b[0mindex\u001b[0m\u001b[0;34m)\u001b[0m\u001b[0;34m\u001b[0m\u001b[0;34m\u001b[0m\u001b[0m\n\u001b[0m\u001b[1;32m   1000\u001b[0m \u001b[0;34m\u001b[0m\u001b[0m\n\u001b[1;32m   1001\u001b[0m \u001b[0;34m\u001b[0m\u001b[0m\n",
      "\u001b[0;32m~/opt/anaconda3/lib/python3.9/site-packages/pandas/core/frame.py\u001b[0m in \u001b[0;36m__init__\u001b[0;34m(self, data, index, columns, dtype, copy)\u001b[0m\n\u001b[1;32m    634\u001b[0m         \u001b[0;32melif\u001b[0m \u001b[0misinstance\u001b[0m\u001b[0;34m(\u001b[0m\u001b[0mdata\u001b[0m\u001b[0;34m,\u001b[0m \u001b[0mdict\u001b[0m\u001b[0;34m)\u001b[0m\u001b[0;34m:\u001b[0m\u001b[0;34m\u001b[0m\u001b[0;34m\u001b[0m\u001b[0m\n\u001b[1;32m    635\u001b[0m             \u001b[0;31m# GH#38939 de facto copy defaults to False only in non-dict cases\u001b[0m\u001b[0;34m\u001b[0m\u001b[0;34m\u001b[0m\u001b[0m\n\u001b[0;32m--> 636\u001b[0;31m             \u001b[0mmgr\u001b[0m \u001b[0;34m=\u001b[0m \u001b[0mdict_to_mgr\u001b[0m\u001b[0;34m(\u001b[0m\u001b[0mdata\u001b[0m\u001b[0;34m,\u001b[0m \u001b[0mindex\u001b[0m\u001b[0;34m,\u001b[0m \u001b[0mcolumns\u001b[0m\u001b[0;34m,\u001b[0m \u001b[0mdtype\u001b[0m\u001b[0;34m=\u001b[0m\u001b[0mdtype\u001b[0m\u001b[0;34m,\u001b[0m \u001b[0mcopy\u001b[0m\u001b[0;34m=\u001b[0m\u001b[0mcopy\u001b[0m\u001b[0;34m,\u001b[0m \u001b[0mtyp\u001b[0m\u001b[0;34m=\u001b[0m\u001b[0mmanager\u001b[0m\u001b[0;34m)\u001b[0m\u001b[0;34m\u001b[0m\u001b[0;34m\u001b[0m\u001b[0m\n\u001b[0m\u001b[1;32m    637\u001b[0m         \u001b[0;32melif\u001b[0m \u001b[0misinstance\u001b[0m\u001b[0;34m(\u001b[0m\u001b[0mdata\u001b[0m\u001b[0;34m,\u001b[0m \u001b[0mma\u001b[0m\u001b[0;34m.\u001b[0m\u001b[0mMaskedArray\u001b[0m\u001b[0;34m)\u001b[0m\u001b[0;34m:\u001b[0m\u001b[0;34m\u001b[0m\u001b[0;34m\u001b[0m\u001b[0m\n\u001b[1;32m    638\u001b[0m             \u001b[0;32mimport\u001b[0m \u001b[0mnumpy\u001b[0m\u001b[0;34m.\u001b[0m\u001b[0mma\u001b[0m\u001b[0;34m.\u001b[0m\u001b[0mmrecords\u001b[0m \u001b[0;32mas\u001b[0m \u001b[0mmrecords\u001b[0m\u001b[0;34m\u001b[0m\u001b[0;34m\u001b[0m\u001b[0m\n",
      "\u001b[0;32m~/opt/anaconda3/lib/python3.9/site-packages/pandas/core/internals/construction.py\u001b[0m in \u001b[0;36mdict_to_mgr\u001b[0;34m(data, index, columns, dtype, typ, copy)\u001b[0m\n\u001b[1;32m    500\u001b[0m         \u001b[0;31m# TODO: can we get rid of the dt64tz special case above?\u001b[0m\u001b[0;34m\u001b[0m\u001b[0;34m\u001b[0m\u001b[0m\n\u001b[1;32m    501\u001b[0m \u001b[0;34m\u001b[0m\u001b[0m\n\u001b[0;32m--> 502\u001b[0;31m     \u001b[0;32mreturn\u001b[0m \u001b[0marrays_to_mgr\u001b[0m\u001b[0;34m(\u001b[0m\u001b[0marrays\u001b[0m\u001b[0;34m,\u001b[0m \u001b[0mcolumns\u001b[0m\u001b[0;34m,\u001b[0m \u001b[0mindex\u001b[0m\u001b[0;34m,\u001b[0m \u001b[0mdtype\u001b[0m\u001b[0;34m=\u001b[0m\u001b[0mdtype\u001b[0m\u001b[0;34m,\u001b[0m \u001b[0mtyp\u001b[0m\u001b[0;34m=\u001b[0m\u001b[0mtyp\u001b[0m\u001b[0;34m,\u001b[0m \u001b[0mconsolidate\u001b[0m\u001b[0;34m=\u001b[0m\u001b[0mcopy\u001b[0m\u001b[0;34m)\u001b[0m\u001b[0;34m\u001b[0m\u001b[0;34m\u001b[0m\u001b[0m\n\u001b[0m\u001b[1;32m    503\u001b[0m \u001b[0;34m\u001b[0m\u001b[0m\n\u001b[1;32m    504\u001b[0m \u001b[0;34m\u001b[0m\u001b[0m\n",
      "\u001b[0;32m~/opt/anaconda3/lib/python3.9/site-packages/pandas/core/internals/construction.py\u001b[0m in \u001b[0;36marrays_to_mgr\u001b[0;34m(arrays, columns, index, dtype, verify_integrity, typ, consolidate)\u001b[0m\n\u001b[1;32m    123\u001b[0m \u001b[0;34m\u001b[0m\u001b[0m\n\u001b[1;32m    124\u001b[0m         \u001b[0;31m# don't force copy because getting jammed in an ndarray anyway\u001b[0m\u001b[0;34m\u001b[0m\u001b[0;34m\u001b[0m\u001b[0m\n\u001b[0;32m--> 125\u001b[0;31m         \u001b[0marrays\u001b[0m \u001b[0;34m=\u001b[0m \u001b[0m_homogenize\u001b[0m\u001b[0;34m(\u001b[0m\u001b[0marrays\u001b[0m\u001b[0;34m,\u001b[0m \u001b[0mindex\u001b[0m\u001b[0;34m,\u001b[0m \u001b[0mdtype\u001b[0m\u001b[0;34m)\u001b[0m\u001b[0;34m\u001b[0m\u001b[0;34m\u001b[0m\u001b[0m\n\u001b[0m\u001b[1;32m    126\u001b[0m         \u001b[0;31m# _homogenize ensures\u001b[0m\u001b[0;34m\u001b[0m\u001b[0;34m\u001b[0m\u001b[0m\n\u001b[1;32m    127\u001b[0m         \u001b[0;31m#  - all(len(x) == len(index) for x in arrays)\u001b[0m\u001b[0;34m\u001b[0m\u001b[0;34m\u001b[0m\u001b[0m\n",
      "\u001b[0;32m~/opt/anaconda3/lib/python3.9/site-packages/pandas/core/internals/construction.py\u001b[0m in \u001b[0;36m_homogenize\u001b[0;34m(data, index, dtype)\u001b[0m\n\u001b[1;32m    626\u001b[0m                 \u001b[0mval\u001b[0m\u001b[0;34m,\u001b[0m \u001b[0mindex\u001b[0m\u001b[0;34m,\u001b[0m \u001b[0mdtype\u001b[0m\u001b[0;34m=\u001b[0m\u001b[0mdtype\u001b[0m\u001b[0;34m,\u001b[0m \u001b[0mcopy\u001b[0m\u001b[0;34m=\u001b[0m\u001b[0;32mFalse\u001b[0m\u001b[0;34m,\u001b[0m \u001b[0mraise_cast_failure\u001b[0m\u001b[0;34m=\u001b[0m\u001b[0;32mFalse\u001b[0m\u001b[0;34m\u001b[0m\u001b[0;34m\u001b[0m\u001b[0m\n\u001b[1;32m    627\u001b[0m             )\n\u001b[0;32m--> 628\u001b[0;31m             \u001b[0mcom\u001b[0m\u001b[0;34m.\u001b[0m\u001b[0mrequire_length_match\u001b[0m\u001b[0;34m(\u001b[0m\u001b[0mval\u001b[0m\u001b[0;34m,\u001b[0m \u001b[0mindex\u001b[0m\u001b[0;34m)\u001b[0m\u001b[0;34m\u001b[0m\u001b[0;34m\u001b[0m\u001b[0m\n\u001b[0m\u001b[1;32m    629\u001b[0m \u001b[0;34m\u001b[0m\u001b[0m\n\u001b[1;32m    630\u001b[0m         \u001b[0mhomogenized\u001b[0m\u001b[0;34m.\u001b[0m\u001b[0mappend\u001b[0m\u001b[0;34m(\u001b[0m\u001b[0mval\u001b[0m\u001b[0;34m)\u001b[0m\u001b[0;34m\u001b[0m\u001b[0;34m\u001b[0m\u001b[0m\n",
      "\u001b[0;32m~/opt/anaconda3/lib/python3.9/site-packages/pandas/core/common.py\u001b[0m in \u001b[0;36mrequire_length_match\u001b[0;34m(data, index)\u001b[0m\n\u001b[1;32m    555\u001b[0m     \"\"\"\n\u001b[1;32m    556\u001b[0m     \u001b[0;32mif\u001b[0m \u001b[0mlen\u001b[0m\u001b[0;34m(\u001b[0m\u001b[0mdata\u001b[0m\u001b[0;34m)\u001b[0m \u001b[0;34m!=\u001b[0m \u001b[0mlen\u001b[0m\u001b[0;34m(\u001b[0m\u001b[0mindex\u001b[0m\u001b[0;34m)\u001b[0m\u001b[0;34m:\u001b[0m\u001b[0;34m\u001b[0m\u001b[0;34m\u001b[0m\u001b[0m\n\u001b[0;32m--> 557\u001b[0;31m         raise ValueError(\n\u001b[0m\u001b[1;32m    558\u001b[0m             \u001b[0;34m\"Length of values \"\u001b[0m\u001b[0;34m\u001b[0m\u001b[0;34m\u001b[0m\u001b[0m\n\u001b[1;32m    559\u001b[0m             \u001b[0;34mf\"({len(data)}) \"\u001b[0m\u001b[0;34m\u001b[0m\u001b[0;34m\u001b[0m\u001b[0m\n",
      "\u001b[0;31mValueError\u001b[0m: Length of values (294) does not match length of index (0)"
     ]
    }
   ],
   "source": [
    "shapes_layer = viewer.add_shapes(\n",
    "        face_color='transparent',\n",
    "        edge_color='green',\n",
    "        properties=properties,\n",
    "        text=text_parameters,\n",
    "        name='bounding box'\n",
    "    )"
   ]
  },
  {
   "cell_type": "code",
   "execution_count": null,
   "id": "f80c5e43",
   "metadata": {},
   "outputs": [],
   "source": [
    "# create the properties dictionary\n",
    "properties = {\n",
    "    'label': label,\n",
    "    'circularity': circularity,\n",
    "}"
   ]
  },
  {
   "cell_type": "code",
   "execution_count": 23,
   "id": "0b8ed9c0",
   "metadata": {},
   "outputs": [],
   "source": [
    "text_parameters = {\n",
    "    'string': 'label: {label}\\ncirc: {circularity:.2f}',\n",
    "    'size': 12,\n",
    "    'color': 'green',\n",
    "    'anchor': 'upper_left',\n",
    "    'translation': [-3, 0]\n",
    "}\n",
    "\n",
    "label: 1\n",
    "circ: 0.83"
   ]
  },
  {
   "cell_type": "code",
   "execution_count": null,
   "id": "9b00dd86",
   "metadata": {},
   "outputs": [],
   "source": [
    "# create the properties dictionary\n",
    "properties = {\n",
    "    'label': label,\n",
    "    'circularity': circularity,\n",
    "}\n",
    "\n",
    "# specify the display parameters for the text\n",
    "text_kwargs = {\n",
    "    'string': 'label: {label}\\ncirc: {circularity:.2f}',\n",
    "    'size': 12,\n",
    "    'color': 'green',\n",
    "    'anchor': 'upper_left',\n",
    "    'translation': [-3, 0]\n",
    "}\n",
    "\n",
    "# initialise viewer with coins image\n",
    "viewer = napari.view_image(image, name='coins', rgb=False)\n",
    "\n",
    "# add the labels\n",
    "label_layer = viewer.add_labels(label_image, name='segmentation')\n",
    "\n",
    "shapes_layer = viewer.add_shapes(\n",
    "    bbox_rects,\n",
    "    face_color='transparent',\n",
    "    edge_color='green',\n",
    "    properties=properties,\n",
    "    text=text_parameters,\n",
    "    name='bounding box'\n",
    ")\n",
    "\n",
    "napari.run()"
   ]
  }
 ],
 "metadata": {
  "kernelspec": {
   "display_name": "Python 3 (ipykernel)",
   "language": "python",
   "name": "python3"
  },
  "language_info": {
   "codemirror_mode": {
    "name": "ipython",
    "version": 3
   },
   "file_extension": ".py",
   "mimetype": "text/x-python",
   "name": "python",
   "nbconvert_exporter": "python",
   "pygments_lexer": "ipython3",
   "version": "3.9.13"
  }
 },
 "nbformat": 4,
 "nbformat_minor": 5
}
